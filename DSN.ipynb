{
 "cells": [
  {
   "cell_type": "code",
   "execution_count": 83,
   "id": "bbe8b561",
   "metadata": {},
   "outputs": [],
   "source": [
    "import pandas as pd\n",
    "import numpy as np\n",
    "import seaborn as sns\n",
    "from sklearn.preprocessing import LabelEncoder\n",
    "import category_encoders as ce\n",
    "from catboost import CatBoostRegressor\n",
    "from sklearn.model_selection import train_test_split,KFold, StratifiedKFold, cross_val_score\n",
    "from sklearn.metrics import mean_squared_error\n",
    "from sklearn.ensemble import RandomForestRegressor\n",
    "from xgboost import XGBRegressor\n",
    "import matplotlib.pyplot as plt\n",
    "from lightgbm import LGBMRegressor\n",
    "#from sklearn.impute import KNNImputer\n",
    "\n",
    "import warnings\n",
    "warnings.filterwarnings('ignore')"
   ]
  },
  {
   "cell_type": "code",
   "execution_count": 4,
   "id": "07b137e9",
   "metadata": {},
   "outputs": [
    {
     "data": {
      "text/html": [
       "<div>\n",
       "<style scoped>\n",
       "    .dataframe tbody tr th:only-of-type {\n",
       "        vertical-align: middle;\n",
       "    }\n",
       "\n",
       "    .dataframe tbody tr th {\n",
       "        vertical-align: top;\n",
       "    }\n",
       "\n",
       "    .dataframe thead th {\n",
       "        text-align: right;\n",
       "    }\n",
       "</style>\n",
       "<table border=\"1\" class=\"dataframe\">\n",
       "  <thead>\n",
       "    <tr style=\"text-align: right;\">\n",
       "      <th></th>\n",
       "      <th>ID</th>\n",
       "      <th>loc</th>\n",
       "      <th>title</th>\n",
       "      <th>bedroom</th>\n",
       "      <th>bathroom</th>\n",
       "      <th>parking_space</th>\n",
       "      <th>price</th>\n",
       "    </tr>\n",
       "  </thead>\n",
       "  <tbody>\n",
       "    <tr>\n",
       "      <th>0</th>\n",
       "      <td>3583</td>\n",
       "      <td>Katsina</td>\n",
       "      <td>Semi-detached duplex</td>\n",
       "      <td>2.0</td>\n",
       "      <td>2.0</td>\n",
       "      <td>1.0</td>\n",
       "      <td>1149999.565</td>\n",
       "    </tr>\n",
       "    <tr>\n",
       "      <th>1</th>\n",
       "      <td>2748</td>\n",
       "      <td>Ondo</td>\n",
       "      <td>Apartment</td>\n",
       "      <td>NaN</td>\n",
       "      <td>2.0</td>\n",
       "      <td>4.0</td>\n",
       "      <td>1672416.689</td>\n",
       "    </tr>\n",
       "    <tr>\n",
       "      <th>2</th>\n",
       "      <td>9261</td>\n",
       "      <td>Ekiti</td>\n",
       "      <td>NaN</td>\n",
       "      <td>7.0</td>\n",
       "      <td>5.0</td>\n",
       "      <td>NaN</td>\n",
       "      <td>3364799.814</td>\n",
       "    </tr>\n",
       "    <tr>\n",
       "      <th>3</th>\n",
       "      <td>2224</td>\n",
       "      <td>Anambra</td>\n",
       "      <td>Detached duplex</td>\n",
       "      <td>5.0</td>\n",
       "      <td>2.0</td>\n",
       "      <td>4.0</td>\n",
       "      <td>2410306.756</td>\n",
       "    </tr>\n",
       "    <tr>\n",
       "      <th>4</th>\n",
       "      <td>10300</td>\n",
       "      <td>Kogi</td>\n",
       "      <td>Terrace duplex</td>\n",
       "      <td>NaN</td>\n",
       "      <td>5.0</td>\n",
       "      <td>6.0</td>\n",
       "      <td>2600700.898</td>\n",
       "    </tr>\n",
       "  </tbody>\n",
       "</table>\n",
       "</div>"
      ],
      "text/plain": [
       "      ID      loc                 title  bedroom  bathroom  parking_space  \\\n",
       "0   3583  Katsina  Semi-detached duplex      2.0       2.0            1.0   \n",
       "1   2748     Ondo             Apartment      NaN       2.0            4.0   \n",
       "2   9261    Ekiti                   NaN      7.0       5.0            NaN   \n",
       "3   2224  Anambra       Detached duplex      5.0       2.0            4.0   \n",
       "4  10300     Kogi        Terrace duplex      NaN       5.0            6.0   \n",
       "\n",
       "         price  \n",
       "0  1149999.565  \n",
       "1  1672416.689  \n",
       "2  3364799.814  \n",
       "3  2410306.756  \n",
       "4  2600700.898  "
      ]
     },
     "execution_count": 4,
     "metadata": {},
     "output_type": "execute_result"
    }
   ],
   "source": [
    "df= pd.read_csv('Housing_dataset_train.csv')\n",
    "test = pd.read_csv('Housing_dataset_test.csv')\n",
    "df.head()"
   ]
  },
  {
   "cell_type": "code",
   "execution_count": 5,
   "id": "c1520553",
   "metadata": {},
   "outputs": [
    {
     "data": {
      "text/html": [
       "<div>\n",
       "<style scoped>\n",
       "    .dataframe tbody tr th:only-of-type {\n",
       "        vertical-align: middle;\n",
       "    }\n",
       "\n",
       "    .dataframe tbody tr th {\n",
       "        vertical-align: top;\n",
       "    }\n",
       "\n",
       "    .dataframe thead th {\n",
       "        text-align: right;\n",
       "    }\n",
       "</style>\n",
       "<table border=\"1\" class=\"dataframe\">\n",
       "  <thead>\n",
       "    <tr style=\"text-align: right;\">\n",
       "      <th></th>\n",
       "      <th>ID</th>\n",
       "    </tr>\n",
       "  </thead>\n",
       "  <tbody>\n",
       "    <tr>\n",
       "      <th>0</th>\n",
       "      <td>845</td>\n",
       "    </tr>\n",
       "    <tr>\n",
       "      <th>1</th>\n",
       "      <td>1924</td>\n",
       "    </tr>\n",
       "    <tr>\n",
       "      <th>2</th>\n",
       "      <td>10718</td>\n",
       "    </tr>\n",
       "    <tr>\n",
       "      <th>3</th>\n",
       "      <td>12076</td>\n",
       "    </tr>\n",
       "    <tr>\n",
       "      <th>4</th>\n",
       "      <td>12254</td>\n",
       "    </tr>\n",
       "  </tbody>\n",
       "</table>\n",
       "</div>"
      ],
      "text/plain": [
       "      ID\n",
       "0    845\n",
       "1   1924\n",
       "2  10718\n",
       "3  12076\n",
       "4  12254"
      ]
     },
     "execution_count": 5,
     "metadata": {},
     "output_type": "execute_result"
    }
   ],
   "source": [
    "sub = pd.read_csv('Sample_submission.csv')\n",
    "sub.head()"
   ]
  },
  {
   "cell_type": "code",
   "execution_count": 6,
   "id": "7066c5fa",
   "metadata": {},
   "outputs": [
    {
     "data": {
      "image/png": "[encoded data removed]",
      "text/plain": [
       "<Figure size 864x432 with 1 Axes>"
      ]
     },
     "metadata": {
      "needs_background": "light"
     },
     "output_type": "display_data"
    }
   ],
   "source": [
    "#What is the distribution of house types in the dataset?\n",
    "plt.figure(figsize=(12,6))\n",
    "sns.countplot(x='title', data=df)\n",
    "plt.xticks(rotation=90)\n",
    "plt.show()"
   ]
  },
  {
   "cell_type": "markdown",
   "id": "826d0637",
   "metadata": {},
   "source": [
    "**What is the distribution of house types in the dataset?**\n",
    "\n",
    "Cottage House types is low compared to others"
   ]
  },
  {
   "cell_type": "code",
   "execution_count": 7,
   "id": "ece15e49",
   "metadata": {},
   "outputs": [
    {
     "data": {
      "text/plain": [
       "Kaduna         370\n",
       "Anambra        363\n",
       "Benue          355\n",
       "Yobe           353\n",
       "Borno          351\n",
       "Kano           351\n",
       "Nasarawa       349\n",
       "Cross River    349\n",
       "Zamfara        348\n",
       "Imo            348\n",
       "Ebonyi         346\n",
       "Kebbi          346\n",
       "Katsina        345\n",
       "Ogun           345\n",
       "Ondo           344\n",
       "Gombe          343\n",
       "Bauchi         342\n",
       "Oyo            341\n",
       "Adamawa        341\n",
       "Bayelsa        340\n",
       "Plateau        338\n",
       "Osun           338\n",
       "Jigawa         337\n",
       "Ekiti          336\n",
       "Kwara          333\n",
       "Niger          330\n",
       "Akwa Ibom      329\n",
       "Lagos          328\n",
       "Sokoto         326\n",
       "Delta          325\n",
       "Enugu          324\n",
       "Rivers         323\n",
       "Kogi           321\n",
       "Taraba         315\n",
       "Abia           312\n",
       "Edo            302\n",
       "Name: loc, dtype: int64"
      ]
     },
     "execution_count": 7,
     "metadata": {},
     "output_type": "execute_result"
    }
   ],
   "source": [
    "#Which state has the highest number of houses in the dataset?\n",
    "\n",
    "df['loc'].value_counts()"
   ]
  },
  {
   "cell_type": "markdown",
   "id": "a9411100",
   "metadata": {},
   "source": [
    "**Which state has the highest number of houses in the dataset?**\n",
    "\n",
    "Kaduna has the highest number of houses in the dataset\n"
   ]
  },
  {
   "cell_type": "code",
   "execution_count": 8,
   "id": "2b76e1f2",
   "metadata": {},
   "outputs": [
    {
     "data": {
      "text/html": [
       "<div>\n",
       "<style scoped>\n",
       "    .dataframe tbody tr th:only-of-type {\n",
       "        vertical-align: middle;\n",
       "    }\n",
       "\n",
       "    .dataframe tbody tr th {\n",
       "        vertical-align: top;\n",
       "    }\n",
       "\n",
       "    .dataframe thead th {\n",
       "        text-align: right;\n",
       "    }\n",
       "</style>\n",
       "<table border=\"1\" class=\"dataframe\">\n",
       "  <thead>\n",
       "    <tr style=\"text-align: right;\">\n",
       "      <th></th>\n",
       "      <th>price</th>\n",
       "    </tr>\n",
       "    <tr>\n",
       "      <th>loc</th>\n",
       "      <th></th>\n",
       "    </tr>\n",
       "  </thead>\n",
       "  <tbody>\n",
       "    <tr>\n",
       "      <th>Abia</th>\n",
       "      <td>1.717083e+06</td>\n",
       "    </tr>\n",
       "    <tr>\n",
       "      <th>Adamawa</th>\n",
       "      <td>1.905287e+06</td>\n",
       "    </tr>\n",
       "    <tr>\n",
       "      <th>Akwa Ibom</th>\n",
       "      <td>2.725454e+06</td>\n",
       "    </tr>\n",
       "    <tr>\n",
       "      <th>Anambra</th>\n",
       "      <td>2.337230e+06</td>\n",
       "    </tr>\n",
       "    <tr>\n",
       "      <th>Bauchi</th>\n",
       "      <td>1.772961e+06</td>\n",
       "    </tr>\n",
       "    <tr>\n",
       "      <th>Bayelsa</th>\n",
       "      <td>3.112322e+06</td>\n",
       "    </tr>\n",
       "    <tr>\n",
       "      <th>Benue</th>\n",
       "      <td>1.920461e+06</td>\n",
       "    </tr>\n",
       "    <tr>\n",
       "      <th>Borno</th>\n",
       "      <td>1.735704e+06</td>\n",
       "    </tr>\n",
       "    <tr>\n",
       "      <th>Cross River</th>\n",
       "      <td>2.507765e+06</td>\n",
       "    </tr>\n",
       "    <tr>\n",
       "      <th>Delta</th>\n",
       "      <td>2.712493e+06</td>\n",
       "    </tr>\n",
       "    <tr>\n",
       "      <th>Ebonyi</th>\n",
       "      <td>1.635850e+06</td>\n",
       "    </tr>\n",
       "    <tr>\n",
       "      <th>Edo</th>\n",
       "      <td>2.310452e+06</td>\n",
       "    </tr>\n",
       "    <tr>\n",
       "      <th>Ekiti</th>\n",
       "      <td>2.109220e+06</td>\n",
       "    </tr>\n",
       "    <tr>\n",
       "      <th>Enugu</th>\n",
       "      <td>2.272887e+06</td>\n",
       "    </tr>\n",
       "    <tr>\n",
       "      <th>Gombe</th>\n",
       "      <td>1.860851e+06</td>\n",
       "    </tr>\n",
       "    <tr>\n",
       "      <th>Imo</th>\n",
       "      <td>2.067489e+06</td>\n",
       "    </tr>\n",
       "    <tr>\n",
       "      <th>Jigawa</th>\n",
       "      <td>1.735867e+06</td>\n",
       "    </tr>\n",
       "    <tr>\n",
       "      <th>Kaduna</th>\n",
       "      <td>1.846993e+06</td>\n",
       "    </tr>\n",
       "    <tr>\n",
       "      <th>Kano</th>\n",
       "      <td>2.081931e+06</td>\n",
       "    </tr>\n",
       "    <tr>\n",
       "      <th>Katsina</th>\n",
       "      <td>1.947589e+06</td>\n",
       "    </tr>\n",
       "    <tr>\n",
       "      <th>Kebbi</th>\n",
       "      <td>1.616372e+06</td>\n",
       "    </tr>\n",
       "    <tr>\n",
       "      <th>Kogi</th>\n",
       "      <td>1.763416e+06</td>\n",
       "    </tr>\n",
       "    <tr>\n",
       "      <th>Kwara</th>\n",
       "      <td>1.903424e+06</td>\n",
       "    </tr>\n",
       "    <tr>\n",
       "      <th>Lagos</th>\n",
       "      <td>4.210546e+06</td>\n",
       "    </tr>\n",
       "    <tr>\n",
       "      <th>Nasarawa</th>\n",
       "      <td>2.061764e+06</td>\n",
       "    </tr>\n",
       "    <tr>\n",
       "      <th>Niger</th>\n",
       "      <td>1.885325e+06</td>\n",
       "    </tr>\n",
       "    <tr>\n",
       "      <th>Ogun</th>\n",
       "      <td>2.564020e+06</td>\n",
       "    </tr>\n",
       "    <tr>\n",
       "      <th>Ondo</th>\n",
       "      <td>2.277494e+06</td>\n",
       "    </tr>\n",
       "    <tr>\n",
       "      <th>Osun</th>\n",
       "      <td>2.180570e+06</td>\n",
       "    </tr>\n",
       "    <tr>\n",
       "      <th>Oyo</th>\n",
       "      <td>2.293159e+06</td>\n",
       "    </tr>\n",
       "    <tr>\n",
       "      <th>Plateau</th>\n",
       "      <td>1.942316e+06</td>\n",
       "    </tr>\n",
       "    <tr>\n",
       "      <th>Rivers</th>\n",
       "      <td>2.957098e+06</td>\n",
       "    </tr>\n",
       "    <tr>\n",
       "      <th>Sokoto</th>\n",
       "      <td>1.681016e+06</td>\n",
       "    </tr>\n",
       "    <tr>\n",
       "      <th>Taraba</th>\n",
       "      <td>1.855306e+06</td>\n",
       "    </tr>\n",
       "    <tr>\n",
       "      <th>Yobe</th>\n",
       "      <td>1.747938e+06</td>\n",
       "    </tr>\n",
       "    <tr>\n",
       "      <th>Zamfara</th>\n",
       "      <td>1.689541e+06</td>\n",
       "    </tr>\n",
       "  </tbody>\n",
       "</table>\n",
       "</div>"
      ],
      "text/plain": [
       "                    price\n",
       "loc                      \n",
       "Abia         1.717083e+06\n",
       "Adamawa      1.905287e+06\n",
       "Akwa Ibom    2.725454e+06\n",
       "Anambra      2.337230e+06\n",
       "Bauchi       1.772961e+06\n",
       "Bayelsa      3.112322e+06\n",
       "Benue        1.920461e+06\n",
       "Borno        1.735704e+06\n",
       "Cross River  2.507765e+06\n",
       "Delta        2.712493e+06\n",
       "Ebonyi       1.635850e+06\n",
       "Edo          2.310452e+06\n",
       "Ekiti        2.109220e+06\n",
       "Enugu        2.272887e+06\n",
       "Gombe        1.860851e+06\n",
       "Imo          2.067489e+06\n",
       "Jigawa       1.735867e+06\n",
       "Kaduna       1.846993e+06\n",
       "Kano         2.081931e+06\n",
       "Katsina      1.947589e+06\n",
       "Kebbi        1.616372e+06\n",
       "Kogi         1.763416e+06\n",
       "Kwara        1.903424e+06\n",
       "Lagos        4.210546e+06\n",
       "Nasarawa     2.061764e+06\n",
       "Niger        1.885325e+06\n",
       "Ogun         2.564020e+06\n",
       "Ondo         2.277494e+06\n",
       "Osun         2.180570e+06\n",
       "Oyo          2.293159e+06\n",
       "Plateau      1.942316e+06\n",
       "Rivers       2.957098e+06\n",
       "Sokoto       1.681016e+06\n",
       "Taraba       1.855306e+06\n",
       "Yobe         1.747938e+06\n",
       "Zamfara      1.689541e+06"
      ]
     },
     "execution_count": 8,
     "metadata": {},
     "output_type": "execute_result"
    }
   ],
   "source": [
    "#What is the average house price in each state?\n",
    "\n",
    "df.groupby('loc').mean()[['price']]"
   ]
  },
  {
   "cell_type": "code",
   "execution_count": 13,
   "id": "b2c6e04d",
   "metadata": {},
   "outputs": [
    {
     "data": {
      "text/plain": [
       "<AxesSubplot:xlabel='bedroom', ylabel='price'>"
      ]
     },
     "execution_count": 13,
     "metadata": {},
     "output_type": "execute_result"
    },
    {
     "data": {
      "image/png": "[encoded data removed]",
      "text/plain": [
       "<Figure size 1500x600 with 1 Axes>"
      ]
     },
     "metadata": {
      "needs_background": "light"
     },
     "output_type": "display_data"
    }
   ],
   "source": [
    "#Is there any relationship between the number of bedrooms and the house price?\n",
    "plt.figure(figsize=(15,6),dpi=100)\n",
    "sns.scatterplot(x='bedroom', y='price', data=df)"
   ]
  },
  {
   "cell_type": "markdown",
   "id": "ea9ca466",
   "metadata": {},
   "source": [
    "**Is there any relationship between the number of bedrooms and the house price?**\n",
    "\n",
    "From the above Plot I can see that houses that have 5 bedrooms have the highest price\n"
   ]
  },
  {
   "cell_type": "code",
   "execution_count": 20,
   "id": "12a01530",
   "metadata": {},
   "outputs": [
    {
     "data": {
      "text/plain": [
       "<AxesSubplot:xlabel='bathroom', ylabel='price'>"
      ]
     },
     "execution_count": 20,
     "metadata": {},
     "output_type": "execute_result"
    },
    {
     "data": {
      "image/png": "[encoded data removed]",
      "text/plain": [
       "<Figure size 1500x600 with 1 Axes>"
      ]
     },
     "metadata": {
      "needs_background": "light"
     },
     "output_type": "display_data"
    }
   ],
   "source": [
    "#Is there any relationship between the number of bathrooms and the house price?\n",
    "plt.figure(figsize=(15,6),dpi=100)\n",
    "sns.scatterplot(x='bathroom', y='price', data=df)"
   ]
  },
  {
   "cell_type": "markdown",
   "id": "18fe4a46",
   "metadata": {},
   "source": [
    "**Is there any relationship between the number of bathrooms and the house price?**\n",
    "\n",
    "From the above Plot I can see that houses that have 1 bathroom have the highest price"
   ]
  },
  {
   "cell_type": "code",
   "execution_count": 19,
   "id": "5a9bc205",
   "metadata": {},
   "outputs": [
    {
     "data": {
      "text/plain": [
       "<AxesSubplot:xlabel='title', ylabel='bathroom'>"
      ]
     },
     "execution_count": 19,
     "metadata": {},
     "output_type": "execute_result"
    },
    {
     "data": {
      "image/png": "[encoded data removed]",
      "text/plain": [
       "<Figure size 2250x1200 with 1 Axes>"
      ]
     },
     "metadata": {
      "needs_background": "light"
     },
     "output_type": "display_data"
    }
   ],
   "source": [
    "#Which house type has the highest average number of bathrooms?\n",
    "\n",
    "\n",
    "bat = df.groupby('title').mean()[['bathroom']].sort_values('bathroom').reset_index()\n",
    "plt.figure(figsize=(15,8),dpi=150)\n",
    "sns.barplot(x='title', y='bathroom', data=bat, palette='viridis')\n"
   ]
  },
  {
   "cell_type": "markdown",
   "id": "ae128710",
   "metadata": {},
   "source": [
    "**Insight**\n",
    "\n",
    "Bungalow house type has the highest number of bathroom at an average while cottage house type has the lowest"
   ]
  },
  {
   "cell_type": "code",
   "execution_count": 27,
   "id": "4734f7dd",
   "metadata": {},
   "outputs": [
    {
     "data": {
      "image/png": "[encoded data removed]",
      "text/plain": [
       "<Figure size 4000x2400 with 1 Axes>"
      ]
     },
     "metadata": {
      "needs_background": "light"
     },
     "output_type": "display_data"
    }
   ],
   "source": [
    "#Is there a significant difference in house prices between different states?\n",
    "lag = df.groupby('loc').mean()[['price']].sort_values('price').reset_index()\n",
    "plt.figure(figsize=(20,12),dpi=200)\n",
    "sns.barplot(x='loc', y='price', data=lag)\n",
    "plt.xticks(rotation=90);"
   ]
  },
  {
   "cell_type": "markdown",
   "id": "1047ae24",
   "metadata": {},
   "source": [
    "**Insight**\n",
    "\n",
    "Lagos State has the highest number of Price"
   ]
  },
  {
   "cell_type": "code",
   "execution_count": 37,
   "id": "6a257936",
   "metadata": {},
   "outputs": [
    {
     "data": {
      "text/plain": [
       "<AxesSubplot:xlabel='title', ylabel='price'>"
      ]
     },
     "execution_count": 37,
     "metadata": {},
     "output_type": "execute_result"
    },
    {
     "data": {
      "image/png": "[encoded data removed]",
      "text/plain": [
       "<Figure size 864x432 with 1 Axes>"
      ]
     },
     "metadata": {
      "needs_background": "light"
     },
     "output_type": "display_data"
    }
   ],
   "source": [
    "#What are the top 5 most expensive house types in the dataset?\n",
    "title = df.groupby('title').mean()[['price']].sort_values('price').tail().reset_index()\n",
    "plt.figure(figsize=(12,6))\n",
    "sns.barplot(x='title', y='price', data=title)"
   ]
  },
  {
   "cell_type": "markdown",
   "id": "57a23820",
   "metadata": {},
   "source": [
    "**Insight**\n",
    "\n",
    "Mansion is the most expensive house type in the dataset"
   ]
  },
  {
   "cell_type": "code",
   "execution_count": 40,
   "id": "9abc53db",
   "metadata": {},
   "outputs": [
    {
     "data": {
      "text/plain": [
       "<AxesSubplot:>"
      ]
     },
     "execution_count": 40,
     "metadata": {},
     "output_type": "execute_result"
    },
    {
     "data": {
      "image/png": "[encoded data removed]",
      "text/plain": [
       "<Figure size 864x432 with 2 Axes>"
      ]
     },
     "metadata": {
      "needs_background": "light"
     },
     "output_type": "display_data"
    }
   ],
   "source": [
    "plt.figure(figsize=(12,6))\n",
    "sns.heatmap(df.corr(), annot=True, cmap='viridis')"
   ]
  },
  {
   "cell_type": "markdown",
   "id": "a3d24a07",
   "metadata": {},
   "source": [
    "**Insight**\n",
    "\n",
    "The number of bedrooms and bathrooms seem to be the most correlated of the numerical features"
   ]
  },
  {
   "cell_type": "code",
   "execution_count": 41,
   "id": "1435be37",
   "metadata": {},
   "outputs": [
    {
     "data": {
      "text/plain": [
       "<AxesSubplot:xlabel='title', ylabel='price'>"
      ]
     },
     "execution_count": 41,
     "metadata": {},
     "output_type": "execute_result"
    },
    {
     "data": {
      "image/png": "[encoded data removed]",
      "text/plain": [
       "<Figure size 2250x1200 with 1 Axes>"
      ]
     },
     "metadata": {
      "needs_background": "light"
     },
     "output_type": "display_data"
    }
   ],
   "source": [
    "#How does the house price vary with different house types?\n",
    "plt.figure(figsize=(15,8),dpi=150)\n",
    "sns.boxplot(x='title', y='price' , data=df)"
   ]
  },
  {
   "cell_type": "code",
   "execution_count": 43,
   "id": "b886e301",
   "metadata": {},
   "outputs": [
    {
     "data": {
      "text/html": [
       "<div>\n",
       "<style scoped>\n",
       "    .dataframe tbody tr th:only-of-type {\n",
       "        vertical-align: middle;\n",
       "    }\n",
       "\n",
       "    .dataframe tbody tr th {\n",
       "        vertical-align: top;\n",
       "    }\n",
       "\n",
       "    .dataframe thead th {\n",
       "        text-align: right;\n",
       "    }\n",
       "</style>\n",
       "<table border=\"1\" class=\"dataframe\">\n",
       "  <thead>\n",
       "    <tr style=\"text-align: right;\">\n",
       "      <th></th>\n",
       "      <th>bedroom</th>\n",
       "    </tr>\n",
       "    <tr>\n",
       "      <th>title</th>\n",
       "      <th></th>\n",
       "    </tr>\n",
       "  </thead>\n",
       "  <tbody>\n",
       "    <tr>\n",
       "      <th>Apartment</th>\n",
       "      <td>4.344219</td>\n",
       "    </tr>\n",
       "    <tr>\n",
       "      <th>Bungalow</th>\n",
       "      <td>4.402852</td>\n",
       "    </tr>\n",
       "    <tr>\n",
       "      <th>Cottage</th>\n",
       "      <td>2.905512</td>\n",
       "    </tr>\n",
       "    <tr>\n",
       "      <th>Detached duplex</th>\n",
       "      <td>4.327840</td>\n",
       "    </tr>\n",
       "    <tr>\n",
       "      <th>Flat</th>\n",
       "      <td>4.378877</td>\n",
       "    </tr>\n",
       "    <tr>\n",
       "      <th>Mansion</th>\n",
       "      <td>4.333929</td>\n",
       "    </tr>\n",
       "    <tr>\n",
       "      <th>Penthouse</th>\n",
       "      <td>4.342982</td>\n",
       "    </tr>\n",
       "    <tr>\n",
       "      <th>Semi-detached duplex</th>\n",
       "      <td>4.414903</td>\n",
       "    </tr>\n",
       "    <tr>\n",
       "      <th>Terrace duplex</th>\n",
       "      <td>4.340639</td>\n",
       "    </tr>\n",
       "    <tr>\n",
       "      <th>Townhouse</th>\n",
       "      <td>4.298759</td>\n",
       "    </tr>\n",
       "  </tbody>\n",
       "</table>\n",
       "</div>"
      ],
      "text/plain": [
       "                       bedroom\n",
       "title                         \n",
       "Apartment             4.344219\n",
       "Bungalow              4.402852\n",
       "Cottage               2.905512\n",
       "Detached duplex       4.327840\n",
       "Flat                  4.378877\n",
       "Mansion               4.333929\n",
       "Penthouse             4.342982\n",
       "Semi-detached duplex  4.414903\n",
       "Terrace duplex        4.340639\n",
       "Townhouse             4.298759"
      ]
     },
     "execution_count": 43,
     "metadata": {},
     "output_type": "execute_result"
    }
   ],
   "source": [
    "#What is the average number of bedrooms for each house type?\n",
    "df.groupby('title').mean()[['bedroom']]"
   ]
  },
  {
   "cell_type": "code",
   "execution_count": 45,
   "id": "17f2d0d6",
   "metadata": {},
   "outputs": [],
   "source": [
    "data = pd.concat([df,test],ignore_index=False)"
   ]
  },
  {
   "cell_type": "code",
   "execution_count": 48,
   "id": "21f5c3a2",
   "metadata": {},
   "outputs": [],
   "source": [
    "data = data.drop('ID', axis=1)"
   ]
  },
  {
   "cell_type": "code",
   "execution_count": 49,
   "id": "9ba3bf6d",
   "metadata": {},
   "outputs": [
    {
     "data": {
      "text/html": [
       "<div>\n",
       "<style scoped>\n",
       "    .dataframe tbody tr th:only-of-type {\n",
       "        vertical-align: middle;\n",
       "    }\n",
       "\n",
       "    .dataframe tbody tr th {\n",
       "        vertical-align: top;\n",
       "    }\n",
       "\n",
       "    .dataframe thead th {\n",
       "        text-align: right;\n",
       "    }\n",
       "</style>\n",
       "<table border=\"1\" class=\"dataframe\">\n",
       "  <thead>\n",
       "    <tr style=\"text-align: right;\">\n",
       "      <th></th>\n",
       "      <th>loc</th>\n",
       "      <th>title</th>\n",
       "      <th>bedroom</th>\n",
       "      <th>bathroom</th>\n",
       "      <th>parking_space</th>\n",
       "      <th>price</th>\n",
       "    </tr>\n",
       "  </thead>\n",
       "  <tbody>\n",
       "    <tr>\n",
       "      <th>0</th>\n",
       "      <td>Katsina</td>\n",
       "      <td>Semi-detached duplex</td>\n",
       "      <td>2.0</td>\n",
       "      <td>2.0</td>\n",
       "      <td>1.0</td>\n",
       "      <td>1149999.565</td>\n",
       "    </tr>\n",
       "    <tr>\n",
       "      <th>1</th>\n",
       "      <td>Ondo</td>\n",
       "      <td>Apartment</td>\n",
       "      <td>NaN</td>\n",
       "      <td>2.0</td>\n",
       "      <td>4.0</td>\n",
       "      <td>1672416.689</td>\n",
       "    </tr>\n",
       "    <tr>\n",
       "      <th>2</th>\n",
       "      <td>Ekiti</td>\n",
       "      <td>NaN</td>\n",
       "      <td>7.0</td>\n",
       "      <td>5.0</td>\n",
       "      <td>NaN</td>\n",
       "      <td>3364799.814</td>\n",
       "    </tr>\n",
       "    <tr>\n",
       "      <th>3</th>\n",
       "      <td>Anambra</td>\n",
       "      <td>Detached duplex</td>\n",
       "      <td>5.0</td>\n",
       "      <td>2.0</td>\n",
       "      <td>4.0</td>\n",
       "      <td>2410306.756</td>\n",
       "    </tr>\n",
       "    <tr>\n",
       "      <th>4</th>\n",
       "      <td>Kogi</td>\n",
       "      <td>Terrace duplex</td>\n",
       "      <td>NaN</td>\n",
       "      <td>5.0</td>\n",
       "      <td>6.0</td>\n",
       "      <td>2600700.898</td>\n",
       "    </tr>\n",
       "  </tbody>\n",
       "</table>\n",
       "</div>"
      ],
      "text/plain": [
       "       loc                 title  bedroom  bathroom  parking_space  \\\n",
       "0  Katsina  Semi-detached duplex      2.0       2.0            1.0   \n",
       "1     Ondo             Apartment      NaN       2.0            4.0   \n",
       "2    Ekiti                   NaN      7.0       5.0            NaN   \n",
       "3  Anambra       Detached duplex      5.0       2.0            4.0   \n",
       "4     Kogi        Terrace duplex      NaN       5.0            6.0   \n",
       "\n",
       "         price  \n",
       "0  1149999.565  \n",
       "1  1672416.689  \n",
       "2  3364799.814  \n",
       "3  2410306.756  \n",
       "4  2600700.898  "
      ]
     },
     "execution_count": 49,
     "metadata": {},
     "output_type": "execute_result"
    }
   ],
   "source": [
    "data.head()"
   ]
  },
  {
   "cell_type": "code",
   "execution_count": 50,
   "id": "e4d0f9d4",
   "metadata": {},
   "outputs": [],
   "source": [
    "house_type_ranks = {\n",
    "\"Apartment\":1,\n",
    "\"Flat\":2,\n",
    "\"Cottage\":3,\n",
    "\"Semi-detached duplex\":4,\n",
    "\"Terrace duplex\":5,\n",
    "\"Bungalow\":6,\n",
    "\"Townhouse\":7,\n",
    "\"Detached duplex\":8,\n",
    "\"Penthouse\":9,\n",
    "\"Mansion\":10,\n",
    "}\n",
    "\n",
    "\n",
    "\n",
    "# Map the house types to numerical values based on size ranking\n",
    "data['title'] = data['title'].map(house_type_ranks)\n",
    "\n"
   ]
  },
  {
   "cell_type": "code",
   "execution_count": 51,
   "id": "eaf64190",
   "metadata": {},
   "outputs": [
    {
     "data": {
      "text/html": [
       "<div>\n",
       "<style scoped>\n",
       "    .dataframe tbody tr th:only-of-type {\n",
       "        vertical-align: middle;\n",
       "    }\n",
       "\n",
       "    .dataframe tbody tr th {\n",
       "        vertical-align: top;\n",
       "    }\n",
       "\n",
       "    .dataframe thead th {\n",
       "        text-align: right;\n",
       "    }\n",
       "</style>\n",
       "<table border=\"1\" class=\"dataframe\">\n",
       "  <thead>\n",
       "    <tr style=\"text-align: right;\">\n",
       "      <th></th>\n",
       "      <th>loc</th>\n",
       "      <th>title</th>\n",
       "      <th>bedroom</th>\n",
       "      <th>bathroom</th>\n",
       "      <th>parking_space</th>\n",
       "      <th>price</th>\n",
       "    </tr>\n",
       "  </thead>\n",
       "  <tbody>\n",
       "    <tr>\n",
       "      <th>0</th>\n",
       "      <td>Katsina</td>\n",
       "      <td>4.0</td>\n",
       "      <td>2.0</td>\n",
       "      <td>2.0</td>\n",
       "      <td>1.0</td>\n",
       "      <td>1149999.565</td>\n",
       "    </tr>\n",
       "    <tr>\n",
       "      <th>1</th>\n",
       "      <td>Ondo</td>\n",
       "      <td>1.0</td>\n",
       "      <td>NaN</td>\n",
       "      <td>2.0</td>\n",
       "      <td>4.0</td>\n",
       "      <td>1672416.689</td>\n",
       "    </tr>\n",
       "    <tr>\n",
       "      <th>2</th>\n",
       "      <td>Ekiti</td>\n",
       "      <td>NaN</td>\n",
       "      <td>7.0</td>\n",
       "      <td>5.0</td>\n",
       "      <td>NaN</td>\n",
       "      <td>3364799.814</td>\n",
       "    </tr>\n",
       "    <tr>\n",
       "      <th>3</th>\n",
       "      <td>Anambra</td>\n",
       "      <td>8.0</td>\n",
       "      <td>5.0</td>\n",
       "      <td>2.0</td>\n",
       "      <td>4.0</td>\n",
       "      <td>2410306.756</td>\n",
       "    </tr>\n",
       "    <tr>\n",
       "      <th>4</th>\n",
       "      <td>Kogi</td>\n",
       "      <td>5.0</td>\n",
       "      <td>NaN</td>\n",
       "      <td>5.0</td>\n",
       "      <td>6.0</td>\n",
       "      <td>2600700.898</td>\n",
       "    </tr>\n",
       "  </tbody>\n",
       "</table>\n",
       "</div>"
      ],
      "text/plain": [
       "       loc  title  bedroom  bathroom  parking_space        price\n",
       "0  Katsina    4.0      2.0       2.0            1.0  1149999.565\n",
       "1     Ondo    1.0      NaN       2.0            4.0  1672416.689\n",
       "2    Ekiti    NaN      7.0       5.0            NaN  3364799.814\n",
       "3  Anambra    8.0      5.0       2.0            4.0  2410306.756\n",
       "4     Kogi    5.0      NaN       5.0            6.0  2600700.898"
      ]
     },
     "execution_count": 51,
     "metadata": {},
     "output_type": "execute_result"
    }
   ],
   "source": [
    "data.head()"
   ]
  },
  {
   "cell_type": "code",
   "execution_count": 52,
   "id": "c2517215",
   "metadata": {},
   "outputs": [
    {
     "data": {
      "text/html": [
       "<div>\n",
       "<style scoped>\n",
       "    .dataframe tbody tr th:only-of-type {\n",
       "        vertical-align: middle;\n",
       "    }\n",
       "\n",
       "    .dataframe tbody tr th {\n",
       "        vertical-align: top;\n",
       "    }\n",
       "\n",
       "    .dataframe thead th {\n",
       "        text-align: right;\n",
       "    }\n",
       "</style>\n",
       "<table border=\"1\" class=\"dataframe\">\n",
       "  <thead>\n",
       "    <tr style=\"text-align: right;\">\n",
       "      <th></th>\n",
       "      <th>loc</th>\n",
       "      <th>title</th>\n",
       "      <th>bedroom</th>\n",
       "      <th>bathroom</th>\n",
       "      <th>parking_space</th>\n",
       "      <th>price</th>\n",
       "      <th>Total_Rooms</th>\n",
       "      <th>Bathroom_to_Bedroom_Ratio</th>\n",
       "    </tr>\n",
       "  </thead>\n",
       "  <tbody>\n",
       "    <tr>\n",
       "      <th>0</th>\n",
       "      <td>Katsina</td>\n",
       "      <td>4.0</td>\n",
       "      <td>2.0</td>\n",
       "      <td>2.0</td>\n",
       "      <td>1.0</td>\n",
       "      <td>1149999.565</td>\n",
       "      <td>4.0</td>\n",
       "      <td>1.000000</td>\n",
       "    </tr>\n",
       "    <tr>\n",
       "      <th>1</th>\n",
       "      <td>Ondo</td>\n",
       "      <td>1.0</td>\n",
       "      <td>NaN</td>\n",
       "      <td>2.0</td>\n",
       "      <td>4.0</td>\n",
       "      <td>1672416.689</td>\n",
       "      <td>NaN</td>\n",
       "      <td>NaN</td>\n",
       "    </tr>\n",
       "    <tr>\n",
       "      <th>2</th>\n",
       "      <td>Ekiti</td>\n",
       "      <td>NaN</td>\n",
       "      <td>7.0</td>\n",
       "      <td>5.0</td>\n",
       "      <td>NaN</td>\n",
       "      <td>3364799.814</td>\n",
       "      <td>12.0</td>\n",
       "      <td>0.714286</td>\n",
       "    </tr>\n",
       "    <tr>\n",
       "      <th>3</th>\n",
       "      <td>Anambra</td>\n",
       "      <td>8.0</td>\n",
       "      <td>5.0</td>\n",
       "      <td>2.0</td>\n",
       "      <td>4.0</td>\n",
       "      <td>2410306.756</td>\n",
       "      <td>7.0</td>\n",
       "      <td>0.400000</td>\n",
       "    </tr>\n",
       "    <tr>\n",
       "      <th>4</th>\n",
       "      <td>Kogi</td>\n",
       "      <td>5.0</td>\n",
       "      <td>NaN</td>\n",
       "      <td>5.0</td>\n",
       "      <td>6.0</td>\n",
       "      <td>2600700.898</td>\n",
       "      <td>NaN</td>\n",
       "      <td>NaN</td>\n",
       "    </tr>\n",
       "  </tbody>\n",
       "</table>\n",
       "</div>"
      ],
      "text/plain": [
       "       loc  title  bedroom  bathroom  parking_space        price  Total_Rooms  \\\n",
       "0  Katsina    4.0      2.0       2.0            1.0  1149999.565          4.0   \n",
       "1     Ondo    1.0      NaN       2.0            4.0  1672416.689          NaN   \n",
       "2    Ekiti    NaN      7.0       5.0            NaN  3364799.814         12.0   \n",
       "3  Anambra    8.0      5.0       2.0            4.0  2410306.756          7.0   \n",
       "4     Kogi    5.0      NaN       5.0            6.0  2600700.898          NaN   \n",
       "\n",
       "   Bathroom_to_Bedroom_Ratio  \n",
       "0                   1.000000  \n",
       "1                        NaN  \n",
       "2                   0.714286  \n",
       "3                   0.400000  \n",
       "4                        NaN  "
      ]
     },
     "execution_count": 52,
     "metadata": {},
     "output_type": "execute_result"
    }
   ],
   "source": [
    "# Create the 'Total Rooms' feature\n",
    "data['Total_Rooms'] = data['bedroom'] + data['bathroom']\n",
    "\n",
    "\n",
    "# Create the 'Bathroom-to-Bedroom Ratio' feature\n",
    "data['Bathroom_to_Bedroom_Ratio'] = data['bathroom'] / data['bedroom']\n",
    "\n",
    "\n",
    "data.head()"
   ]
  },
  {
   "cell_type": "code",
   "execution_count": 62,
   "id": "e7271fcf",
   "metadata": {},
   "outputs": [],
   "source": [
    "encoder = ce.TargetEncoder(return_df=True)"
   ]
  },
  {
   "cell_type": "code",
   "execution_count": 63,
   "id": "2392bdd8",
   "metadata": {},
   "outputs": [],
   "source": [
    "data = encoder.fit_transform(data, data['price'])"
   ]
  },
  {
   "cell_type": "code",
   "execution_count": 64,
   "id": "d121d474",
   "metadata": {},
   "outputs": [
    {
     "data": {
      "text/html": [
       "<div>\n",
       "<style scoped>\n",
       "    .dataframe tbody tr th:only-of-type {\n",
       "        vertical-align: middle;\n",
       "    }\n",
       "\n",
       "    .dataframe tbody tr th {\n",
       "        vertical-align: top;\n",
       "    }\n",
       "\n",
       "    .dataframe thead th {\n",
       "        text-align: right;\n",
       "    }\n",
       "</style>\n",
       "<table border=\"1\" class=\"dataframe\">\n",
       "  <thead>\n",
       "    <tr style=\"text-align: right;\">\n",
       "      <th></th>\n",
       "      <th>loc</th>\n",
       "      <th>title</th>\n",
       "      <th>bedroom</th>\n",
       "      <th>bathroom</th>\n",
       "      <th>parking_space</th>\n",
       "      <th>price</th>\n",
       "      <th>Total_Rooms</th>\n",
       "      <th>Bathroom_to_Bedroom_Ratio</th>\n",
       "    </tr>\n",
       "  </thead>\n",
       "  <tbody>\n",
       "    <tr>\n",
       "      <th>0</th>\n",
       "      <td>1.947589e+06</td>\n",
       "      <td>4.0</td>\n",
       "      <td>2.0</td>\n",
       "      <td>2.0</td>\n",
       "      <td>1.0</td>\n",
       "      <td>1149999.565</td>\n",
       "      <td>4.0</td>\n",
       "      <td>1.000000</td>\n",
       "    </tr>\n",
       "    <tr>\n",
       "      <th>1</th>\n",
       "      <td>2.277494e+06</td>\n",
       "      <td>1.0</td>\n",
       "      <td>NaN</td>\n",
       "      <td>2.0</td>\n",
       "      <td>4.0</td>\n",
       "      <td>1672416.689</td>\n",
       "      <td>NaN</td>\n",
       "      <td>NaN</td>\n",
       "    </tr>\n",
       "    <tr>\n",
       "      <th>2</th>\n",
       "      <td>2.109220e+06</td>\n",
       "      <td>NaN</td>\n",
       "      <td>7.0</td>\n",
       "      <td>5.0</td>\n",
       "      <td>NaN</td>\n",
       "      <td>3364799.814</td>\n",
       "      <td>12.0</td>\n",
       "      <td>0.714286</td>\n",
       "    </tr>\n",
       "    <tr>\n",
       "      <th>3</th>\n",
       "      <td>2.337230e+06</td>\n",
       "      <td>8.0</td>\n",
       "      <td>5.0</td>\n",
       "      <td>2.0</td>\n",
       "      <td>4.0</td>\n",
       "      <td>2410306.756</td>\n",
       "      <td>7.0</td>\n",
       "      <td>0.400000</td>\n",
       "    </tr>\n",
       "    <tr>\n",
       "      <th>4</th>\n",
       "      <td>1.763416e+06</td>\n",
       "      <td>5.0</td>\n",
       "      <td>NaN</td>\n",
       "      <td>5.0</td>\n",
       "      <td>6.0</td>\n",
       "      <td>2600700.898</td>\n",
       "      <td>NaN</td>\n",
       "      <td>NaN</td>\n",
       "    </tr>\n",
       "    <tr>\n",
       "      <th>...</th>\n",
       "      <td>...</td>\n",
       "      <td>...</td>\n",
       "      <td>...</td>\n",
       "      <td>...</td>\n",
       "      <td>...</td>\n",
       "      <td>...</td>\n",
       "      <td>...</td>\n",
       "      <td>...</td>\n",
       "    </tr>\n",
       "    <tr>\n",
       "      <th>5995</th>\n",
       "      <td>2.109220e+06</td>\n",
       "      <td>2.0</td>\n",
       "      <td>4.0</td>\n",
       "      <td>5.0</td>\n",
       "      <td>2.0</td>\n",
       "      <td>NaN</td>\n",
       "      <td>9.0</td>\n",
       "      <td>1.250000</td>\n",
       "    </tr>\n",
       "    <tr>\n",
       "      <th>5996</th>\n",
       "      <td>1.905287e+06</td>\n",
       "      <td>5.0</td>\n",
       "      <td>5.0</td>\n",
       "      <td>7.0</td>\n",
       "      <td>1.0</td>\n",
       "      <td>NaN</td>\n",
       "      <td>12.0</td>\n",
       "      <td>1.400000</td>\n",
       "    </tr>\n",
       "    <tr>\n",
       "      <th>5997</th>\n",
       "      <td>2.293159e+06</td>\n",
       "      <td>7.0</td>\n",
       "      <td>4.0</td>\n",
       "      <td>1.0</td>\n",
       "      <td>4.0</td>\n",
       "      <td>NaN</td>\n",
       "      <td>5.0</td>\n",
       "      <td>0.250000</td>\n",
       "    </tr>\n",
       "    <tr>\n",
       "      <th>5998</th>\n",
       "      <td>1.772961e+06</td>\n",
       "      <td>2.0</td>\n",
       "      <td>3.0</td>\n",
       "      <td>7.0</td>\n",
       "      <td>5.0</td>\n",
       "      <td>NaN</td>\n",
       "      <td>10.0</td>\n",
       "      <td>2.333333</td>\n",
       "    </tr>\n",
       "    <tr>\n",
       "      <th>5999</th>\n",
       "      <td>1.681016e+06</td>\n",
       "      <td>10.0</td>\n",
       "      <td>6.0</td>\n",
       "      <td>1.0</td>\n",
       "      <td>6.0</td>\n",
       "      <td>NaN</td>\n",
       "      <td>7.0</td>\n",
       "      <td>0.166667</td>\n",
       "    </tr>\n",
       "  </tbody>\n",
       "</table>\n",
       "<p>20000 rows × 8 columns</p>\n",
       "</div>"
      ],
      "text/plain": [
       "               loc  title  bedroom  bathroom  parking_space        price  \\\n",
       "0     1.947589e+06    4.0      2.0       2.0            1.0  1149999.565   \n",
       "1     2.277494e+06    1.0      NaN       2.0            4.0  1672416.689   \n",
       "2     2.109220e+06    NaN      7.0       5.0            NaN  3364799.814   \n",
       "3     2.337230e+06    8.0      5.0       2.0            4.0  2410306.756   \n",
       "4     1.763416e+06    5.0      NaN       5.0            6.0  2600700.898   \n",
       "...            ...    ...      ...       ...            ...          ...   \n",
       "5995  2.109220e+06    2.0      4.0       5.0            2.0          NaN   \n",
       "5996  1.905287e+06    5.0      5.0       7.0            1.0          NaN   \n",
       "5997  2.293159e+06    7.0      4.0       1.0            4.0          NaN   \n",
       "5998  1.772961e+06    2.0      3.0       7.0            5.0          NaN   \n",
       "5999  1.681016e+06   10.0      6.0       1.0            6.0          NaN   \n",
       "\n",
       "      Total_Rooms  Bathroom_to_Bedroom_Ratio  \n",
       "0             4.0                   1.000000  \n",
       "1             NaN                        NaN  \n",
       "2            12.0                   0.714286  \n",
       "3             7.0                   0.400000  \n",
       "4             NaN                        NaN  \n",
       "...           ...                        ...  \n",
       "5995          9.0                   1.250000  \n",
       "5996         12.0                   1.400000  \n",
       "5997          5.0                   0.250000  \n",
       "5998         10.0                   2.333333  \n",
       "5999          7.0                   0.166667  \n",
       "\n",
       "[20000 rows x 8 columns]"
      ]
     },
     "execution_count": 64,
     "metadata": {},
     "output_type": "execute_result"
    }
   ],
   "source": [
    "data"
   ]
  },
  {
   "cell_type": "code",
   "execution_count": 65,
   "id": "ecc22c4b",
   "metadata": {},
   "outputs": [
    {
     "name": "stdout",
     "output_type": "stream",
     "text": [
      "[LightGBM] [Warning] Auto-choosing row-wise multi-threading, the overhead of testing was 0.001192 seconds.\n",
      "You can set `force_row_wise=true` to remove the overhead.\n",
      "And if memory is not enough, you can set `force_col_wise=true`.\n",
      "[LightGBM] [Info] Total Bins 384\n",
      "[LightGBM] [Info] Number of data points in the train set: 18278, number of used features: 7\n",
      "[LightGBM] [Info] Start training from score 5.666594\n",
      "[LightGBM] [Warning] Auto-choosing row-wise multi-threading, the overhead of testing was 0.000492 seconds.\n",
      "You can set `force_row_wise=true` to remove the overhead.\n",
      "And if memory is not enough, you can set `force_col_wise=true`.\n",
      "[LightGBM] [Info] Total Bins 628\n",
      "[LightGBM] [Info] Number of data points in the train set: 18201, number of used features: 7\n",
      "[LightGBM] [Info] Start training from score 4.315312\n",
      "[LightGBM] [Warning] Auto-choosing col-wise multi-threading, the overhead of testing was 0.001368 seconds.\n",
      "You can set `force_col_wise=true` to remove the overhead.\n",
      "[LightGBM] [Info] Total Bins 874\n",
      "[LightGBM] [Info] Number of data points in the train set: 18195, number of used features: 7\n",
      "[LightGBM] [Info] Start training from score 3.124815\n",
      "[LightGBM] [Warning] Auto-choosing col-wise multi-threading, the overhead of testing was 0.001581 seconds.\n",
      "You can set `force_col_wise=true` to remove the overhead.\n",
      "[LightGBM] [Info] Total Bins 1121\n",
      "[LightGBM] [Info] Number of data points in the train set: 18189, number of used features: 7\n",
      "[LightGBM] [Info] Start training from score 3.157458\n",
      "[LightGBM] [Warning] Auto-choosing col-wise multi-threading, the overhead of testing was 0.000646 seconds.\n",
      "You can set `force_col_wise=true` to remove the overhead.\n",
      "[LightGBM] [Info] Total Bins 1121\n",
      "[LightGBM] [Info] Number of data points in the train set: 14000, number of used features: 7\n",
      "[LightGBM] [Info] Start training from score 2138081.749330\n",
      "[LightGBM] [Warning] Auto-choosing col-wise multi-threading, the overhead of testing was 0.001347 seconds.\n",
      "You can set `force_col_wise=true` to remove the overhead.\n",
      "[LightGBM] [Info] Total Bins 866\n",
      "[LightGBM] [Info] Number of data points in the train set: 16469, number of used features: 7\n",
      "[LightGBM] [Info] Start training from score 7.438278\n",
      "[LightGBM] [Warning] Auto-choosing row-wise multi-threading, the overhead of testing was 0.000296 seconds.\n",
      "You can set `force_row_wise=true` to remove the overhead.\n",
      "And if memory is not enough, you can set `force_col_wise=true`.\n",
      "[LightGBM] [Info] Total Bins 837\n",
      "[LightGBM] [Info] Number of data points in the train set: 16469, number of used features: 7\n",
      "[LightGBM] [Info] Start training from score 1.053402\n"
     ]
    },
    {
     "data": {
      "text/html": [
       "<div>\n",
       "<style scoped>\n",
       "    .dataframe tbody tr th:only-of-type {\n",
       "        vertical-align: middle;\n",
       "    }\n",
       "\n",
       "    .dataframe tbody tr th {\n",
       "        vertical-align: top;\n",
       "    }\n",
       "\n",
       "    .dataframe thead th {\n",
       "        text-align: right;\n",
       "    }\n",
       "</style>\n",
       "<table border=\"1\" class=\"dataframe\">\n",
       "  <thead>\n",
       "    <tr style=\"text-align: right;\">\n",
       "      <th></th>\n",
       "      <th>loc</th>\n",
       "      <th>title</th>\n",
       "      <th>bedroom</th>\n",
       "      <th>bathroom</th>\n",
       "      <th>parking_space</th>\n",
       "      <th>price</th>\n",
       "      <th>Total_Rooms</th>\n",
       "      <th>Bathroom_to_Bedroom_Ratio</th>\n",
       "    </tr>\n",
       "  </thead>\n",
       "  <tbody>\n",
       "    <tr>\n",
       "      <th>0</th>\n",
       "      <td>1.947589e+06</td>\n",
       "      <td>4.0000</td>\n",
       "      <td>2.000000</td>\n",
       "      <td>2.0</td>\n",
       "      <td>1.000000</td>\n",
       "      <td>1.150000e+06</td>\n",
       "      <td>4.000000</td>\n",
       "      <td>1.000000</td>\n",
       "    </tr>\n",
       "    <tr>\n",
       "      <th>1</th>\n",
       "      <td>2.277494e+06</td>\n",
       "      <td>1.0000</td>\n",
       "      <td>4.278082</td>\n",
       "      <td>2.0</td>\n",
       "      <td>4.000000</td>\n",
       "      <td>1.672417e+06</td>\n",
       "      <td>5.174911</td>\n",
       "      <td>0.520471</td>\n",
       "    </tr>\n",
       "    <tr>\n",
       "      <th>2</th>\n",
       "      <td>2.109220e+06</td>\n",
       "      <td>8.2512</td>\n",
       "      <td>7.000000</td>\n",
       "      <td>5.0</td>\n",
       "      <td>4.005657</td>\n",
       "      <td>3.364800e+06</td>\n",
       "      <td>12.000000</td>\n",
       "      <td>0.714286</td>\n",
       "    </tr>\n",
       "    <tr>\n",
       "      <th>3</th>\n",
       "      <td>2.337230e+06</td>\n",
       "      <td>8.0000</td>\n",
       "      <td>5.000000</td>\n",
       "      <td>2.0</td>\n",
       "      <td>4.000000</td>\n",
       "      <td>2.410307e+06</td>\n",
       "      <td>7.000000</td>\n",
       "      <td>0.400000</td>\n",
       "    </tr>\n",
       "    <tr>\n",
       "      <th>4</th>\n",
       "      <td>1.763416e+06</td>\n",
       "      <td>5.0000</td>\n",
       "      <td>8.623348</td>\n",
       "      <td>5.0</td>\n",
       "      <td>6.000000</td>\n",
       "      <td>2.600701e+06</td>\n",
       "      <td>13.978423</td>\n",
       "      <td>0.555636</td>\n",
       "    </tr>\n",
       "    <tr>\n",
       "      <th>...</th>\n",
       "      <td>...</td>\n",
       "      <td>...</td>\n",
       "      <td>...</td>\n",
       "      <td>...</td>\n",
       "      <td>...</td>\n",
       "      <td>...</td>\n",
       "      <td>...</td>\n",
       "      <td>...</td>\n",
       "    </tr>\n",
       "    <tr>\n",
       "      <th>5995</th>\n",
       "      <td>2.109220e+06</td>\n",
       "      <td>2.0000</td>\n",
       "      <td>4.000000</td>\n",
       "      <td>5.0</td>\n",
       "      <td>2.000000</td>\n",
       "      <td>1.656829e+06</td>\n",
       "      <td>9.000000</td>\n",
       "      <td>1.250000</td>\n",
       "    </tr>\n",
       "    <tr>\n",
       "      <th>5996</th>\n",
       "      <td>1.905287e+06</td>\n",
       "      <td>5.0000</td>\n",
       "      <td>5.000000</td>\n",
       "      <td>7.0</td>\n",
       "      <td>1.000000</td>\n",
       "      <td>1.863149e+06</td>\n",
       "      <td>12.000000</td>\n",
       "      <td>1.400000</td>\n",
       "    </tr>\n",
       "    <tr>\n",
       "      <th>5997</th>\n",
       "      <td>2.293159e+06</td>\n",
       "      <td>7.0000</td>\n",
       "      <td>4.000000</td>\n",
       "      <td>1.0</td>\n",
       "      <td>4.000000</td>\n",
       "      <td>2.044760e+06</td>\n",
       "      <td>5.000000</td>\n",
       "      <td>0.250000</td>\n",
       "    </tr>\n",
       "    <tr>\n",
       "      <th>5998</th>\n",
       "      <td>1.772961e+06</td>\n",
       "      <td>2.0000</td>\n",
       "      <td>3.000000</td>\n",
       "      <td>7.0</td>\n",
       "      <td>5.000000</td>\n",
       "      <td>1.331210e+06</td>\n",
       "      <td>10.000000</td>\n",
       "      <td>2.333333</td>\n",
       "    </tr>\n",
       "    <tr>\n",
       "      <th>5999</th>\n",
       "      <td>1.681016e+06</td>\n",
       "      <td>10.0000</td>\n",
       "      <td>6.000000</td>\n",
       "      <td>1.0</td>\n",
       "      <td>6.000000</td>\n",
       "      <td>3.233434e+06</td>\n",
       "      <td>7.000000</td>\n",
       "      <td>0.166667</td>\n",
       "    </tr>\n",
       "  </tbody>\n",
       "</table>\n",
       "<p>20000 rows × 8 columns</p>\n",
       "</div>"
      ],
      "text/plain": [
       "               loc    title   bedroom  bathroom  parking_space         price  \\\n",
       "0     1.947589e+06   4.0000  2.000000       2.0       1.000000  1.150000e+06   \n",
       "1     2.277494e+06   1.0000  4.278082       2.0       4.000000  1.672417e+06   \n",
       "2     2.109220e+06   8.2512  7.000000       5.0       4.005657  3.364800e+06   \n",
       "3     2.337230e+06   8.0000  5.000000       2.0       4.000000  2.410307e+06   \n",
       "4     1.763416e+06   5.0000  8.623348       5.0       6.000000  2.600701e+06   \n",
       "...            ...      ...       ...       ...            ...           ...   \n",
       "5995  2.109220e+06   2.0000  4.000000       5.0       2.000000  1.656829e+06   \n",
       "5996  1.905287e+06   5.0000  5.000000       7.0       1.000000  1.863149e+06   \n",
       "5997  2.293159e+06   7.0000  4.000000       1.0       4.000000  2.044760e+06   \n",
       "5998  1.772961e+06   2.0000  3.000000       7.0       5.000000  1.331210e+06   \n",
       "5999  1.681016e+06  10.0000  6.000000       1.0       6.000000  3.233434e+06   \n",
       "\n",
       "      Total_Rooms  Bathroom_to_Bedroom_Ratio  \n",
       "0        4.000000                   1.000000  \n",
       "1        5.174911                   0.520471  \n",
       "2       12.000000                   0.714286  \n",
       "3        7.000000                   0.400000  \n",
       "4       13.978423                   0.555636  \n",
       "...           ...                        ...  \n",
       "5995     9.000000                   1.250000  \n",
       "5996    12.000000                   1.400000  \n",
       "5997     5.000000                   0.250000  \n",
       "5998    10.000000                   2.333333  \n",
       "5999     7.000000                   0.166667  \n",
       "\n",
       "[20000 rows x 8 columns]"
      ]
     },
     "execution_count": 65,
     "metadata": {},
     "output_type": "execute_result"
    }
   ],
   "source": [
    "import pandas as pd\n",
    "from sklearn.impute import SimpleImputer\n",
    "from sklearn.linear_model import LinearRegression\n",
    "\n",
    "# Assuming you have your dataframe 'data' and want to perform regression imputation on columns with missing values\n",
    "\n",
    "# Create a copy of the dataframe to avoid modifying the original data\n",
    "impute_data = data.copy()\n",
    "\n",
    "# Get the columns with missing values\n",
    "columns_with_missing = impute_data.columns[impute_data.isnull().any()]\n",
    "\n",
    "# Perform regression imputation for each column with missing values\n",
    "for target in columns_with_missing:\n",
    "    # Select features for regression imputation (consider using other relevant features if available)\n",
    "    features = impute_data.columns.difference([target])\n",
    "    \n",
    "    # Split the data into known (non-missing) and missing values for the target feature\n",
    "    known_data = impute_data.loc[impute_data[target].notnull(), features.to_list() + [target]]\n",
    "    missing_data = impute_data.loc[impute_data[target].isnull(), features.to_list()]\n",
    "\n",
    "    # Separate the target and features for known and missing data\n",
    "    X_known = known_data[features]\n",
    "    y_known = known_data[target]\n",
    "    X_missing = missing_data[features]\n",
    "\n",
    "    # Create a regression model\n",
    "    regression_model = LGBMRegressor()\n",
    "\n",
    "    # Fit the regression model on the known data\n",
    "    regression_model.fit(X_known, y_known)\n",
    "\n",
    "    # Predict the missing values using the regression model\n",
    "    imputed_values = regression_model.predict(X_missing)\n",
    "\n",
    "    # Fill the missing values in the original dataframe\n",
    "    impute_data.loc[impute_data[target].isnull(), target] = imputed_values\n",
    "\n",
    "# Print the updated dataframe with filled missing values\n",
    "impute_data\n"
   ]
  },
  {
   "cell_type": "code",
   "execution_count": 66,
   "id": "cf17b2f2",
   "metadata": {},
   "outputs": [
    {
     "data": {
      "text/plain": [
       "loc                          0\n",
       "title                        0\n",
       "bedroom                      0\n",
       "bathroom                     0\n",
       "parking_space                0\n",
       "price                        0\n",
       "Total_Rooms                  0\n",
       "Bathroom_to_Bedroom_Ratio    0\n",
       "dtype: int64"
      ]
     },
     "execution_count": 66,
     "metadata": {},
     "output_type": "execute_result"
    }
   ],
   "source": [
    "impute_data.isnull().sum()"
   ]
  },
  {
   "cell_type": "code",
   "execution_count": 67,
   "id": "6837e854",
   "metadata": {},
   "outputs": [],
   "source": [
    "data = impute_data.copy()"
   ]
  },
  {
   "cell_type": "code",
   "execution_count": 70,
   "id": "029c918a",
   "metadata": {},
   "outputs": [
    {
     "data": {
      "text/html": [
       "<div>\n",
       "<style scoped>\n",
       "    .dataframe tbody tr th:only-of-type {\n",
       "        vertical-align: middle;\n",
       "    }\n",
       "\n",
       "    .dataframe tbody tr th {\n",
       "        vertical-align: top;\n",
       "    }\n",
       "\n",
       "    .dataframe thead th {\n",
       "        text-align: right;\n",
       "    }\n",
       "</style>\n",
       "<table border=\"1\" class=\"dataframe\">\n",
       "  <thead>\n",
       "    <tr style=\"text-align: right;\">\n",
       "      <th></th>\n",
       "      <th>loc</th>\n",
       "      <th>title</th>\n",
       "      <th>bedroom</th>\n",
       "      <th>bathroom</th>\n",
       "      <th>parking_space</th>\n",
       "      <th>price</th>\n",
       "      <th>Total_Rooms</th>\n",
       "      <th>Bathroom_to_Bedroom_Ratio</th>\n",
       "    </tr>\n",
       "  </thead>\n",
       "  <tbody>\n",
       "    <tr>\n",
       "      <th>0</th>\n",
       "      <td>2.081931e+06</td>\n",
       "      <td>9.0</td>\n",
       "      <td>4.0</td>\n",
       "      <td>1.0</td>\n",
       "      <td>2.0</td>\n",
       "      <td>2.357633e+06</td>\n",
       "      <td>5.0</td>\n",
       "      <td>0.250000</td>\n",
       "    </tr>\n",
       "    <tr>\n",
       "      <th>1</th>\n",
       "      <td>1.905287e+06</td>\n",
       "      <td>1.0</td>\n",
       "      <td>2.0</td>\n",
       "      <td>2.0</td>\n",
       "      <td>4.0</td>\n",
       "      <td>1.024562e+06</td>\n",
       "      <td>4.0</td>\n",
       "      <td>1.000000</td>\n",
       "    </tr>\n",
       "    <tr>\n",
       "      <th>2</th>\n",
       "      <td>1.905287e+06</td>\n",
       "      <td>6.0</td>\n",
       "      <td>2.0</td>\n",
       "      <td>7.0</td>\n",
       "      <td>2.0</td>\n",
       "      <td>1.253566e+06</td>\n",
       "      <td>9.0</td>\n",
       "      <td>3.500000</td>\n",
       "    </tr>\n",
       "    <tr>\n",
       "      <th>3</th>\n",
       "      <td>4.210546e+06</td>\n",
       "      <td>10.0</td>\n",
       "      <td>9.0</td>\n",
       "      <td>5.0</td>\n",
       "      <td>2.0</td>\n",
       "      <td>8.494182e+06</td>\n",
       "      <td>14.0</td>\n",
       "      <td>0.555556</td>\n",
       "    </tr>\n",
       "    <tr>\n",
       "      <th>4</th>\n",
       "      <td>1.860851e+06</td>\n",
       "      <td>4.0</td>\n",
       "      <td>5.0</td>\n",
       "      <td>6.0</td>\n",
       "      <td>1.0</td>\n",
       "      <td>1.828081e+06</td>\n",
       "      <td>11.0</td>\n",
       "      <td>1.200000</td>\n",
       "    </tr>\n",
       "    <tr>\n",
       "      <th>...</th>\n",
       "      <td>...</td>\n",
       "      <td>...</td>\n",
       "      <td>...</td>\n",
       "      <td>...</td>\n",
       "      <td>...</td>\n",
       "      <td>...</td>\n",
       "      <td>...</td>\n",
       "      <td>...</td>\n",
       "    </tr>\n",
       "    <tr>\n",
       "      <th>5995</th>\n",
       "      <td>2.109220e+06</td>\n",
       "      <td>2.0</td>\n",
       "      <td>4.0</td>\n",
       "      <td>5.0</td>\n",
       "      <td>2.0</td>\n",
       "      <td>1.656829e+06</td>\n",
       "      <td>9.0</td>\n",
       "      <td>1.250000</td>\n",
       "    </tr>\n",
       "    <tr>\n",
       "      <th>5996</th>\n",
       "      <td>1.905287e+06</td>\n",
       "      <td>5.0</td>\n",
       "      <td>5.0</td>\n",
       "      <td>7.0</td>\n",
       "      <td>1.0</td>\n",
       "      <td>1.863149e+06</td>\n",
       "      <td>12.0</td>\n",
       "      <td>1.400000</td>\n",
       "    </tr>\n",
       "    <tr>\n",
       "      <th>5997</th>\n",
       "      <td>2.293159e+06</td>\n",
       "      <td>7.0</td>\n",
       "      <td>4.0</td>\n",
       "      <td>1.0</td>\n",
       "      <td>4.0</td>\n",
       "      <td>2.044760e+06</td>\n",
       "      <td>5.0</td>\n",
       "      <td>0.250000</td>\n",
       "    </tr>\n",
       "    <tr>\n",
       "      <th>5998</th>\n",
       "      <td>1.772961e+06</td>\n",
       "      <td>2.0</td>\n",
       "      <td>3.0</td>\n",
       "      <td>7.0</td>\n",
       "      <td>5.0</td>\n",
       "      <td>1.331210e+06</td>\n",
       "      <td>10.0</td>\n",
       "      <td>2.333333</td>\n",
       "    </tr>\n",
       "    <tr>\n",
       "      <th>5999</th>\n",
       "      <td>1.681016e+06</td>\n",
       "      <td>10.0</td>\n",
       "      <td>6.0</td>\n",
       "      <td>1.0</td>\n",
       "      <td>6.0</td>\n",
       "      <td>3.233434e+06</td>\n",
       "      <td>7.0</td>\n",
       "      <td>0.166667</td>\n",
       "    </tr>\n",
       "  </tbody>\n",
       "</table>\n",
       "<p>6000 rows × 8 columns</p>\n",
       "</div>"
      ],
      "text/plain": [
       "               loc  title  bedroom  bathroom  parking_space         price  \\\n",
       "0     2.081931e+06    9.0      4.0       1.0            2.0  2.357633e+06   \n",
       "1     1.905287e+06    1.0      2.0       2.0            4.0  1.024562e+06   \n",
       "2     1.905287e+06    6.0      2.0       7.0            2.0  1.253566e+06   \n",
       "3     4.210546e+06   10.0      9.0       5.0            2.0  8.494182e+06   \n",
       "4     1.860851e+06    4.0      5.0       6.0            1.0  1.828081e+06   \n",
       "...            ...    ...      ...       ...            ...           ...   \n",
       "5995  2.109220e+06    2.0      4.0       5.0            2.0  1.656829e+06   \n",
       "5996  1.905287e+06    5.0      5.0       7.0            1.0  1.863149e+06   \n",
       "5997  2.293159e+06    7.0      4.0       1.0            4.0  2.044760e+06   \n",
       "5998  1.772961e+06    2.0      3.0       7.0            5.0  1.331210e+06   \n",
       "5999  1.681016e+06   10.0      6.0       1.0            6.0  3.233434e+06   \n",
       "\n",
       "      Total_Rooms  Bathroom_to_Bedroom_Ratio  \n",
       "0             5.0                   0.250000  \n",
       "1             4.0                   1.000000  \n",
       "2             9.0                   3.500000  \n",
       "3            14.0                   0.555556  \n",
       "4            11.0                   1.200000  \n",
       "...           ...                        ...  \n",
       "5995          9.0                   1.250000  \n",
       "5996         12.0                   1.400000  \n",
       "5997          5.0                   0.250000  \n",
       "5998         10.0                   2.333333  \n",
       "5999          7.0                   0.166667  \n",
       "\n",
       "[6000 rows x 8 columns]"
      ]
     },
     "execution_count": 70,
     "metadata": {},
     "output_type": "execute_result"
    }
   ],
   "source": [
    "data[df.shape[0]:]\n"
   ]
  },
  {
   "cell_type": "code",
   "execution_count": 73,
   "id": "25c1e3b7",
   "metadata": {},
   "outputs": [],
   "source": [
    "train = data[:df.shape[0]]\n",
    "y = train.price\n",
    "test = data[df.shape[0]:]"
   ]
  },
  {
   "cell_type": "code",
   "execution_count": 78,
   "id": "d3005fcb",
   "metadata": {},
   "outputs": [
    {
     "data": {
      "text/plain": [
       "0        1149999.565\n",
       "1        1672416.689\n",
       "2        3364799.814\n",
       "3        2410306.756\n",
       "4        2600700.898\n",
       "            ...     \n",
       "13995    2367927.861\n",
       "13996    2228516.471\n",
       "13997    2406812.693\n",
       "13998    3348918.718\n",
       "13999    2858516.890\n",
       "Name: price, Length: 14000, dtype: float64"
      ]
     },
     "execution_count": 78,
     "metadata": {},
     "output_type": "execute_result"
    }
   ],
   "source": [
    "y"
   ]
  },
  {
   "cell_type": "code",
   "execution_count": 77,
   "id": "dd432c3e",
   "metadata": {},
   "outputs": [],
   "source": [
    "test.drop('price', axis=1, inplace=True)"
   ]
  },
  {
   "cell_type": "code",
   "execution_count": 79,
   "id": "5644e5fe",
   "metadata": {},
   "outputs": [],
   "source": [
    "X = train.drop('price', axis=1)"
   ]
  },
  {
   "cell_type": "code",
   "execution_count": 80,
   "id": "7e5fa01c",
   "metadata": {},
   "outputs": [],
   "source": [
    "X_train, X_test, y_train, y_test = train_test_split(X, y, test_size=0.3, random_state=0)"
   ]
  },
  {
   "cell_type": "code",
   "execution_count": 85,
   "id": "70e72f66",
   "metadata": {},
   "outputs": [],
   "source": [
    "#cross val score\n",
    "def score(model):\n",
    "    cv = cross_val_score(model,X_train,y_train,scoring='neg_mean_squared_error',cv=5,n_jobs=-1)\n",
    "    \n",
    "    return np.sqrt(np.mean(-cv))"
   ]
  },
  {
   "cell_type": "code",
   "execution_count": 86,
   "id": "7678527b",
   "metadata": {},
   "outputs": [
    {
     "data": {
      "text/plain": [
       "456142.1222426775"
      ]
     },
     "execution_count": 86,
     "metadata": {},
     "output_type": "execute_result"
    }
   ],
   "source": [
    "rf_cv = RandomForestRegressor()\n",
    "score(rf_cv)"
   ]
  },
  {
   "cell_type": "code",
   "execution_count": 114,
   "id": "fddfc8e2",
   "metadata": {},
   "outputs": [
    {
     "data": {
      "text/plain": [
       "414591.2659374284"
      ]
     },
     "execution_count": 114,
     "metadata": {},
     "output_type": "execute_result"
    }
   ],
   "source": [
    "catboost =CatBoostRegressor(learning_rate=0.102,max_depth=5,min_child_samples=3,random_state=0,silent=True,\n",
    "                           n_estimators=312)\n",
    "score(catboost)"
   ]
  },
  {
   "cell_type": "code",
   "execution_count": 88,
   "id": "281fd0a3",
   "metadata": {},
   "outputs": [],
   "source": [
    "from sklearn.metrics import mean_squared_error"
   ]
  },
  {
   "cell_type": "code",
   "execution_count": 89,
   "id": "35204a06",
   "metadata": {},
   "outputs": [],
   "source": [
    "def report(model):\n",
    "    model_name = model.fit(X_train,y_train)\n",
    "    pred_model = model.predict(X_test)\n",
    "    rmse = np.sqrt(mean_squared_error(y_test,pred_model))\n",
    "    \n",
    "    return rmse"
   ]
  },
  {
   "cell_type": "code",
   "execution_count": 90,
   "id": "1540458c",
   "metadata": {},
   "outputs": [
    {
     "data": {
      "text/plain": [
       "451122.8640492227"
      ]
     },
     "execution_count": 90,
     "metadata": {},
     "output_type": "execute_result"
    }
   ],
   "source": [
    "report(rf_cv)"
   ]
  },
  {
   "cell_type": "code",
   "execution_count": 115,
   "id": "f1375e94",
   "metadata": {},
   "outputs": [
    {
     "data": {
      "text/plain": [
       "415472.4400116604"
      ]
     },
     "execution_count": 115,
     "metadata": {},
     "output_type": "execute_result"
    }
   ],
   "source": [
    "report(catboost)"
   ]
  },
  {
   "cell_type": "code",
   "execution_count": 122,
   "id": "d4217557",
   "metadata": {},
   "outputs": [],
   "source": [
    "xgb = XGBRegressor(learning_rate= 0.102, max_depth=3)"
   ]
  },
  {
   "cell_type": "code",
   "execution_count": 123,
   "id": "6509bdf2",
   "metadata": {},
   "outputs": [
    {
     "data": {
      "text/plain": [
       "417185.6669017697"
      ]
     },
     "execution_count": 123,
     "metadata": {},
     "output_type": "execute_result"
    }
   ],
   "source": [
    "report(xgb)"
   ]
  },
  {
   "cell_type": "code",
   "execution_count": 111,
   "id": "8a05f0f9",
   "metadata": {},
   "outputs": [],
   "source": [
    "lgbm = LGBMRegressor(learning_rate= 0.102, max_depth=3, n_estimators=312)"
   ]
  },
  {
   "cell_type": "code",
   "execution_count": 112,
   "id": "db522b2a",
   "metadata": {},
   "outputs": [
    {
     "name": "stdout",
     "output_type": "stream",
     "text": [
      "[LightGBM] [Warning] Auto-choosing col-wise multi-threading, the overhead of testing was 0.000715 seconds.\n",
      "You can set `force_col_wise=true` to remove the overhead.\n",
      "[LightGBM] [Info] Total Bins 1235\n",
      "[LightGBM] [Info] Number of data points in the train set: 9800, number of used features: 7\n",
      "[LightGBM] [Info] Start training from score 2134970.805883\n",
      "[LightGBM] [Warning] No further splits with positive gain, best gain: -inf\n",
      "[LightGBM] [Warning] No further splits with positive gain, best gain: -inf\n",
      "[LightGBM] [Warning] No further splits with positive gain, best gain: -inf\n",
      "[LightGBM] [Warning] No further splits with positive gain, best gain: -inf\n",
      "[LightGBM] [Warning] No further splits with positive gain, best gain: -inf\n",
      "[LightGBM] [Warning] No further splits with positive gain, best gain: -inf\n",
      "[LightGBM] [Warning] No further splits with positive gain, best gain: -inf\n",
      "[LightGBM] [Warning] No further splits with positive gain, best gain: -inf\n",
      "[LightGBM] [Warning] No further splits with positive gain, best gain: -inf\n",
      "[LightGBM] [Warning] No further splits with positive gain, best gain: -inf\n",
      "[LightGBM] [Warning] No further splits with positive gain, best gain: -inf\n",
      "[LightGBM] [Warning] No further splits with positive gain, best gain: -inf\n",
      "[LightGBM] [Warning] No further splits with positive gain, best gain: -inf\n",
      "[LightGBM] [Warning] No further splits with positive gain, best gain: -inf\n",
      "[LightGBM] [Warning] No further splits with positive gain, best gain: -inf\n",
      "[LightGBM] [Warning] No further splits with positive gain, best gain: -inf\n",
      "[LightGBM] [Warning] No further splits with positive gain, best gain: -inf\n",
      "[LightGBM] [Warning] No further splits with positive gain, best gain: -inf\n",
      "[LightGBM] [Warning] No further splits with positive gain, best gain: -inf\n",
      "[LightGBM] [Warning] No further splits with positive gain, best gain: -inf\n",
      "[LightGBM] [Warning] No further splits with positive gain, best gain: -inf\n",
      "[LightGBM] [Warning] No further splits with positive gain, best gain: -inf\n",
      "[LightGBM] [Warning] No further splits with positive gain, best gain: -inf\n",
      "[LightGBM] [Warning] No further splits with positive gain, best gain: -inf\n",
      "[LightGBM] [Warning] No further splits with positive gain, best gain: -inf\n",
      "[LightGBM] [Warning] No further splits with positive gain, best gain: -inf\n",
      "[LightGBM] [Warning] No further splits with positive gain, best gain: -inf\n",
      "[LightGBM] [Warning] No further splits with positive gain, best gain: -inf\n",
      "[LightGBM] [Warning] No further splits with positive gain, best gain: -inf\n",
      "[LightGBM] [Warning] No further splits with positive gain, best gain: -inf\n",
      "[LightGBM] [Warning] No further splits with positive gain, best gain: -inf\n",
      "[LightGBM] [Warning] No further splits with positive gain, best gain: -inf\n",
      "[LightGBM] [Warning] No further splits with positive gain, best gain: -inf\n",
      "[LightGBM] [Warning] No further splits with positive gain, best gain: -inf\n",
      "[LightGBM] [Warning] No further splits with positive gain, best gain: -inf\n",
      "[LightGBM] [Warning] No further splits with positive gain, best gain: -inf\n",
      "[LightGBM] [Warning] No further splits with positive gain, best gain: -inf\n",
      "[LightGBM] [Warning] No further splits with positive gain, best gain: -inf\n",
      "[LightGBM] [Warning] No further splits with positive gain, best gain: -inf\n",
      "[LightGBM] [Warning] No further splits with positive gain, best gain: -inf\n",
      "[LightGBM] [Warning] No further splits with positive gain, best gain: -inf\n",
      "[LightGBM] [Warning] No further splits with positive gain, best gain: -inf\n",
      "[LightGBM] [Warning] No further splits with positive gain, best gain: -inf\n",
      "[LightGBM] [Warning] No further splits with positive gain, best gain: -inf\n",
      "[LightGBM] [Warning] No further splits with positive gain, best gain: -inf\n",
      "[LightGBM] [Warning] No further splits with positive gain, best gain: -inf\n",
      "[LightGBM] [Warning] No further splits with positive gain, best gain: -inf\n",
      "[LightGBM] [Warning] No further splits with positive gain, best gain: -inf\n",
      "[LightGBM] [Warning] No further splits with positive gain, best gain: -inf\n",
      "[LightGBM] [Warning] No further splits with positive gain, best gain: -inf\n",
      "[LightGBM] [Warning] No further splits with positive gain, best gain: -inf\n",
      "[LightGBM] [Warning] No further splits with positive gain, best gain: -inf\n",
      "[LightGBM] [Warning] No further splits with positive gain, best gain: -inf\n",
      "[LightGBM] [Warning] No further splits with positive gain, best gain: -inf\n",
      "[LightGBM] [Warning] No further splits with positive gain, best gain: -inf\n",
      "[LightGBM] [Warning] No further splits with positive gain, best gain: -inf\n",
      "[LightGBM] [Warning] No further splits with positive gain, best gain: -inf\n",
      "[LightGBM] [Warning] No further splits with positive gain, best gain: -inf\n",
      "[LightGBM] [Warning] No further splits with positive gain, best gain: -inf\n",
      "[LightGBM] [Warning] No further splits with positive gain, best gain: -inf\n",
      "[LightGBM] [Warning] No further splits with positive gain, best gain: -inf\n",
      "[LightGBM] [Warning] No further splits with positive gain, best gain: -inf\n",
      "[LightGBM] [Warning] No further splits with positive gain, best gain: -inf\n",
      "[LightGBM] [Warning] No further splits with positive gain, best gain: -inf\n",
      "[LightGBM] [Warning] No further splits with positive gain, best gain: -inf\n",
      "[LightGBM] [Warning] No further splits with positive gain, best gain: -inf\n",
      "[LightGBM] [Warning] No further splits with positive gain, best gain: -inf\n",
      "[LightGBM] [Warning] No further splits with positive gain, best gain: -inf\n",
      "[LightGBM] [Warning] No further splits with positive gain, best gain: -inf\n",
      "[LightGBM] [Warning] No further splits with positive gain, best gain: -inf\n",
      "[LightGBM] [Warning] No further splits with positive gain, best gain: -inf\n",
      "[LightGBM] [Warning] No further splits with positive gain, best gain: -inf\n",
      "[LightGBM] [Warning] No further splits with positive gain, best gain: -inf\n",
      "[LightGBM] [Warning] No further splits with positive gain, best gain: -inf\n",
      "[LightGBM] [Warning] No further splits with positive gain, best gain: -inf\n",
      "[LightGBM] [Warning] No further splits with positive gain, best gain: -inf\n",
      "[LightGBM] [Warning] No further splits with positive gain, best gain: -inf\n",
      "[LightGBM] [Warning] No further splits with positive gain, best gain: -inf\n",
      "[LightGBM] [Warning] No further splits with positive gain, best gain: -inf\n",
      "[LightGBM] [Warning] No further splits with positive gain, best gain: -inf\n",
      "[LightGBM] [Warning] No further splits with positive gain, best gain: -inf\n",
      "[LightGBM] [Warning] No further splits with positive gain, best gain: -inf\n",
      "[LightGBM] [Warning] No further splits with positive gain, best gain: -inf\n",
      "[LightGBM] [Warning] No further splits with positive gain, best gain: -inf\n",
      "[LightGBM] [Warning] No further splits with positive gain, best gain: -inf\n",
      "[LightGBM] [Warning] No further splits with positive gain, best gain: -inf\n",
      "[LightGBM] [Warning] No further splits with positive gain, best gain: -inf\n",
      "[LightGBM] [Warning] No further splits with positive gain, best gain: -inf\n",
      "[LightGBM] [Warning] No further splits with positive gain, best gain: -inf\n",
      "[LightGBM] [Warning] No further splits with positive gain, best gain: -inf\n",
      "[LightGBM] [Warning] No further splits with positive gain, best gain: -inf\n",
      "[LightGBM] [Warning] No further splits with positive gain, best gain: -inf\n",
      "[LightGBM] [Warning] No further splits with positive gain, best gain: -inf\n",
      "[LightGBM] [Warning] No further splits with positive gain, best gain: -inf\n",
      "[LightGBM] [Warning] No further splits with positive gain, best gain: -inf\n",
      "[LightGBM] [Warning] No further splits with positive gain, best gain: -inf\n",
      "[LightGBM] [Warning] No further splits with positive gain, best gain: -inf\n",
      "[LightGBM] [Warning] No further splits with positive gain, best gain: -inf\n",
      "[LightGBM] [Warning] No further splits with positive gain, best gain: -inf\n",
      "[LightGBM] [Warning] No further splits with positive gain, best gain: -inf\n",
      "[LightGBM] [Warning] No further splits with positive gain, best gain: -inf\n",
      "[LightGBM] [Warning] No further splits with positive gain, best gain: -inf\n",
      "[LightGBM] [Warning] No further splits with positive gain, best gain: -inf\n",
      "[LightGBM] [Warning] No further splits with positive gain, best gain: -inf\n",
      "[LightGBM] [Warning] No further splits with positive gain, best gain: -inf\n",
      "[LightGBM] [Warning] No further splits with positive gain, best gain: -inf\n",
      "[LightGBM] [Warning] No further splits with positive gain, best gain: -inf\n",
      "[LightGBM] [Warning] No further splits with positive gain, best gain: -inf\n",
      "[LightGBM] [Warning] No further splits with positive gain, best gain: -inf\n",
      "[LightGBM] [Warning] No further splits with positive gain, best gain: -inf\n",
      "[LightGBM] [Warning] No further splits with positive gain, best gain: -inf\n",
      "[LightGBM] [Warning] No further splits with positive gain, best gain: -inf\n",
      "[LightGBM] [Warning] No further splits with positive gain, best gain: -inf\n",
      "[LightGBM] [Warning] No further splits with positive gain, best gain: -inf\n"
     ]
    },
    {
     "data": {
      "text/plain": [
       "410250.05774169526"
      ]
     },
     "execution_count": 112,
     "metadata": {},
     "output_type": "execute_result"
    }
   ],
   "source": [
    "report(lgbm)"
   ]
  },
  {
   "cell_type": "code",
   "execution_count": 98,
   "id": "11359d1c",
   "metadata": {},
   "outputs": [],
   "source": [
    "def make_submission(model, filename):\n",
    "    sub_copy = sub.copy()\n",
    "    prediction = model.predict(test)\n",
    "    sub_copy['price'] = prediction\n",
    "    sub_copy.to_csv(filename, index=False)"
   ]
  },
  {
   "cell_type": "code",
   "execution_count": 104,
   "id": "1a00e7cd",
   "metadata": {},
   "outputs": [],
   "source": [
    "make_submission(catboost,'A12.csv')"
   ]
  },
  {
   "cell_type": "code",
   "execution_count": 124,
   "id": "cb359aff",
   "metadata": {},
   "outputs": [],
   "source": [
    "make_submission(xgb,'xgb2.csv')"
   ]
  },
  {
   "cell_type": "code",
   "execution_count": 113,
   "id": "ed5cf66d",
   "metadata": {},
   "outputs": [],
   "source": [
    "make_submission(lgbm,'lgbm2.csv')"
   ]
  },
  {
   "cell_type": "code",
   "execution_count": 125,
   "id": "2284ecb6",
   "metadata": {},
   "outputs": [
    {
     "data": {
      "text/plain": [
       "array([0.18148068, 0.2652532 , 0.38319945, 0.00842201, 0.01292426,\n",
       "       0.13518342, 0.01353693], dtype=float32)"
      ]
     },
     "execution_count": 125,
     "metadata": {},
     "output_type": "execute_result"
    }
   ],
   "source": [
    "xgb.feature_importances_"
   ]
  },
  {
   "cell_type": "code",
   "execution_count": 147,
   "id": "353e45a9",
   "metadata": {},
   "outputs": [],
   "source": [
    "feat = pd.DataFrame(xgb.feature_importances_, columns=['importance'])"
   ]
  },
  {
   "cell_type": "code",
   "execution_count": 148,
   "id": "056c6e9f",
   "metadata": {},
   "outputs": [],
   "source": [
    "feat['column'] = X.columns"
   ]
  },
  {
   "cell_type": "code",
   "execution_count": 149,
   "id": "57b2c788",
   "metadata": {},
   "outputs": [
    {
     "data": {
      "text/html": [
       "<div>\n",
       "<style scoped>\n",
       "    .dataframe tbody tr th:only-of-type {\n",
       "        vertical-align: middle;\n",
       "    }\n",
       "\n",
       "    .dataframe tbody tr th {\n",
       "        vertical-align: top;\n",
       "    }\n",
       "\n",
       "    .dataframe thead th {\n",
       "        text-align: right;\n",
       "    }\n",
       "</style>\n",
       "<table border=\"1\" class=\"dataframe\">\n",
       "  <thead>\n",
       "    <tr style=\"text-align: right;\">\n",
       "      <th></th>\n",
       "      <th>importance</th>\n",
       "      <th>column</th>\n",
       "    </tr>\n",
       "  </thead>\n",
       "  <tbody>\n",
       "    <tr>\n",
       "      <th>0</th>\n",
       "      <td>0.181481</td>\n",
       "      <td>loc</td>\n",
       "    </tr>\n",
       "    <tr>\n",
       "      <th>1</th>\n",
       "      <td>0.265253</td>\n",
       "      <td>title</td>\n",
       "    </tr>\n",
       "    <tr>\n",
       "      <th>2</th>\n",
       "      <td>0.383199</td>\n",
       "      <td>bedroom</td>\n",
       "    </tr>\n",
       "    <tr>\n",
       "      <th>3</th>\n",
       "      <td>0.008422</td>\n",
       "      <td>bathroom</td>\n",
       "    </tr>\n",
       "    <tr>\n",
       "      <th>4</th>\n",
       "      <td>0.012924</td>\n",
       "      <td>parking_space</td>\n",
       "    </tr>\n",
       "    <tr>\n",
       "      <th>5</th>\n",
       "      <td>0.135183</td>\n",
       "      <td>Total_Rooms</td>\n",
       "    </tr>\n",
       "    <tr>\n",
       "      <th>6</th>\n",
       "      <td>0.013537</td>\n",
       "      <td>Bathroom_to_Bedroom_Ratio</td>\n",
       "    </tr>\n",
       "  </tbody>\n",
       "</table>\n",
       "</div>"
      ],
      "text/plain": [
       "   importance                     column\n",
       "0    0.181481                        loc\n",
       "1    0.265253                      title\n",
       "2    0.383199                    bedroom\n",
       "3    0.008422                   bathroom\n",
       "4    0.012924              parking_space\n",
       "5    0.135183                Total_Rooms\n",
       "6    0.013537  Bathroom_to_Bedroom_Ratio"
      ]
     },
     "execution_count": 149,
     "metadata": {},
     "output_type": "execute_result"
    }
   ],
   "source": [
    "feat"
   ]
  },
  {
   "cell_type": "code",
   "execution_count": 153,
   "id": "36f7915a",
   "metadata": {},
   "outputs": [
    {
     "data": {
      "text/plain": [
       "<AxesSubplot:xlabel='importance', ylabel='column'>"
      ]
     },
     "execution_count": 153,
     "metadata": {},
     "output_type": "execute_result"
    },
    {
     "data": {
      "image/png": "[encoded data removed]",
      "text/plain": [
       "<Figure size 4000x2000 with 1 Axes>"
      ]
     },
     "metadata": {
      "needs_background": "light"
     },
     "output_type": "display_data"
    }
   ],
   "source": [
    "plt.figure(figsize=(20,10),dpi=200)\n",
    "sns.barplot(y='column',x='importance', data=feat.sort_values('importance',ascending=False),palette='viridis')"
   ]
  },
  {
   "cell_type": "code",
   "execution_count": null,
   "id": "f1a04d74",
   "metadata": {},
   "outputs": [],
   "source": []
  }
 ],
 "metadata": {
  "kernelspec": {
   "display_name": "Python 3 (ipykernel)",
   "language": "python",
   "name": "python3"
  },
  "language_info": {
   "codemirror_mode": {
    "name": "ipython",
    "version": 3
   },
   "file_extension": ".py",
   "mimetype": "text/x-python",
   "name": "python",
   "nbconvert_exporter": "python",
   "pygments_lexer": "ipython3",
   "version": "3.9.12"
  }
 },
 "nbformat": 4,
 "nbformat_minor": 5
}
